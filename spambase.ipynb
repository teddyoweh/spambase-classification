{
 "cells": [
  {
   "cell_type": "code",
   "execution_count": 1,
   "id": "c5d6a63e",
   "metadata": {},
   "outputs": [],
   "source": [
    "import pandas as pd\n",
    "import numpy as np\n",
    "import seaborn as sns\n",
    "import matplotlib.pyplot as plt\n",
    "from sklearn.ensemble import RandomForestClassifier\n",
    "from sklearn.linear_model import LogisticRegression\n",
    "from sklearn.tree import DecisionTreeClassifier\n",
    "from sklearn.metrics import roc_auc_score, accuracy_score, precision_score, recall_score, f1_score"
   ]
  },
  {
   "cell_type": "code",
   "execution_count": 2,
   "id": "89063f6e",
   "metadata": {},
   "outputs": [
    {
     "data": {
      "text/plain": [
       "Int64Index([ 0,  1,  2,  3,  4,  5,  6,  7,  8,  9, 10, 11, 12, 13, 14, 15, 16,\n",
       "            17, 18, 19, 20, 21, 22, 23, 24, 25, 26, 27, 28, 29, 30, 31, 32, 33,\n",
       "            34, 35, 36, 37, 38, 39, 40, 41, 42, 43, 44, 45, 46, 47, 48, 49, 50,\n",
       "            51, 52, 53, 54, 55, 56, 57],\n",
       "           dtype='int64')"
      ]
     },
     "execution_count": 2,
     "metadata": {},
     "output_type": "execute_result"
    }
   ],
   "source": [
    " df = pd.read_table(\"spambase.data\", sep =',', header=None)\n",
    "df.columns"
   ]
  },
  {
   "cell_type": "code",
   "execution_count": 3,
   "id": "b86d5a34",
   "metadata": {},
   "outputs": [],
   "source": [
    " from sklearn.model_selection import train_test_split\n",
    "y = df[np.shape(df)[1]-1]\n",
    "x= df.drop([np.shape(df)[1]-1],axis = 1)\n",
    "x_train,x_test,y_train,y_test=train_test_split(x,y,random_state=0,test_size=0.3)"
   ]
  },
  {
   "cell_type": "code",
   "execution_count": 4,
   "id": "e7f573aa",
   "metadata": {},
   "outputs": [],
   "source": [
    "from sklearn.model_selection import cross_validate\n",
    "random_forest = RandomForestClassifier()\n",
    "scoring = ['accuracy', 'precision_macro', 'recall_macro' , 'roc_auc']\n",
    "scores = cross_validate(random_forest, x_train, y_train, scoring=scoring, cv=20)\n",
    "\n",
    "sorted(scores.keys())\n",
    " \n",
    "forest_accuracy = scores['test_accuracy'].mean()\n",
    "forest_precision = scores['test_precision_macro'].mean()\n",
    "forest_recall = scores['test_recall_macro'].mean()\n",
    "forest_roc = scores['test_roc_auc'].mean() "
   ]
  },
  {
   "cell_type": "code",
   "execution_count": 5,
   "id": "16861c44",
   "metadata": {},
   "outputs": [],
   "source": [
    "decision_tree = DecisionTreeClassifier()\n",
    "\n",
    "scoring = ['accuracy', 'precision_macro', 'recall_macro' ,  'roc_auc']\n",
    "scores = cross_validate(decision_tree, x_train, y_train, scoring=scoring, cv=20)\n",
    "\n",
    "sorted(scores.keys())\n",
    " \n",
    "dtree_accuracy = scores['test_accuracy'].mean()\n",
    "dtree_precision = scores['test_precision_macro'].mean()\n",
    "dtree_recall = scores['test_recall_macro'].mean()\n",
    "dtree_roc = scores['test_roc_auc'].mean()"
   ]
  },
  {
   "cell_type": "code",
   "execution_count": 6,
   "id": "07a5025f",
   "metadata": {},
   "outputs": [
    {
     "name": "stdout",
     "output_type": "stream",
     "text": [
      "{'fit_time': array([0.61827564, 0.60215926, 0.47968769, 0.57718301, 0.51200771,\n",
      "       0.66556787, 0.60785103, 0.5634625 , 0.55851436, 0.58532476,\n",
      "       0.69322205, 0.52086163, 0.61661553, 0.61280203, 0.70198798,\n",
      "       0.92561531, 0.59759498, 0.61968017, 0.65056729, 0.69605327]), 'score_time': array([0.        , 0.01599765, 0.        , 0.        , 0.        ,\n",
      "       0.00777602, 0.        , 0.0156281 , 0.        , 0.        ,\n",
      "       0.00801897, 0.        , 0.01559877, 0.00801086, 0.00803494,\n",
      "       0.00499606, 0.00509739, 0.        , 0.00867891, 0.00433993]), 'test_accuracy': array([0.94409938, 0.94409938, 0.93167702, 0.9378882 , 0.90062112,\n",
      "       0.9378882 , 0.91304348, 0.92546584, 0.96273292, 0.9068323 ,\n",
      "       0.93167702, 0.88819876, 0.95031056, 0.91925466, 0.93167702,\n",
      "       0.95031056, 0.9378882 , 0.9689441 , 0.92546584, 0.92546584]), 'test_precision_macro': array([0.94516451, 0.9399093 , 0.93936535, 0.94015735, 0.89360503,\n",
      "       0.94015735, 0.91683536, 0.93041498, 0.96701562, 0.90314435,\n",
      "       0.9273518 , 0.88043478, 0.95040984, 0.92182792, 0.9320132 ,\n",
      "       0.9478458 , 0.9439946 , 0.96871945, 0.92176871, 0.92176871]), 'test_recall_macro': array([0.93646139, 0.94248941, 0.91731834, 0.92839687, 0.89809384,\n",
      "       0.92839687, 0.90022676, 0.91326531, 0.95521542, 0.90079365,\n",
      "       0.92970522, 0.89115646, 0.94501134, 0.90816327, 0.92403628,\n",
      "       0.9478458 , 0.92630385, 0.96598639, 0.92176871, 0.92176871]), 'test_roc_auc': array([0.9799609 , 0.97474747, 0.97572499, 0.97523623, 0.947377  ,\n",
      "       0.98550016, 0.96339488, 0.97424684, 0.97732426, 0.95837383,\n",
      "       0.96598639, 0.96177519, 0.98526077, 0.97959184, 0.98153547,\n",
      "       0.96420473, 0.98445092, 0.98979592, 0.97262715, 0.97813411])}\n"
     ]
    }
   ],
   "source": [
    "LR = LogisticRegression(max_iter=10000)\n",
    "\n",
    "scoring = ['accuracy', 'precision_macro', 'recall_macro' , 'roc_auc']\n",
    "scores = cross_validate(LR, x_train, y_train, scoring=scoring, cv=20)\n",
    "\n",
    "sorted(scores.keys())\n",
    " \n",
    "LR_accuracy = scores['test_accuracy'].mean()\n",
    "LR_precision = scores['test_precision_macro'].mean()\n",
    "LR_recall = scores['test_recall_macro'].mean()\n",
    "LR_roc = scores['test_roc_auc'].mean()\n",
    " "
   ]
  },
  {
   "cell_type": "code",
   "execution_count": 7,
   "id": "f430850f",
   "metadata": {},
   "outputs": [
    {
     "data": {
      "text/html": [
       "<div>\n",
       "<style scoped>\n",
       "    .dataframe tbody tr th:only-of-type {\n",
       "        vertical-align: middle;\n",
       "    }\n",
       "\n",
       "    .dataframe tbody tr th {\n",
       "        vertical-align: top;\n",
       "    }\n",
       "\n",
       "    .dataframe thead th {\n",
       "        text-align: right;\n",
       "    }\n",
       "</style>\n",
       "<table border=\"1\" class=\"dataframe\">\n",
       "  <thead>\n",
       "    <tr style=\"text-align: right;\">\n",
       "      <th></th>\n",
       "      <th>Model</th>\n",
       "      <th>Accuracy</th>\n",
       "      <th>Precision</th>\n",
       "      <th>Recall</th>\n",
       "      <th>AUC_ROC</th>\n",
       "    </tr>\n",
       "  </thead>\n",
       "  <tbody>\n",
       "    <tr>\n",
       "      <th>2</th>\n",
       "      <td>Random Forest</td>\n",
       "      <td>0.951242</td>\n",
       "      <td>0.951322</td>\n",
       "      <td>0.946549</td>\n",
       "      <td>0.984079</td>\n",
       "    </tr>\n",
       "    <tr>\n",
       "      <th>0</th>\n",
       "      <td>Logistic Regression</td>\n",
       "      <td>0.931677</td>\n",
       "      <td>0.931595</td>\n",
       "      <td>0.925120</td>\n",
       "      <td>0.973762</td>\n",
       "    </tr>\n",
       "    <tr>\n",
       "      <th>1</th>\n",
       "      <td>Decision Tree</td>\n",
       "      <td>0.915528</td>\n",
       "      <td>0.911409</td>\n",
       "      <td>0.911798</td>\n",
       "      <td>0.911798</td>\n",
       "    </tr>\n",
       "  </tbody>\n",
       "</table>\n",
       "</div>"
      ],
      "text/plain": [
       "                 Model  Accuracy  Precision    Recall   AUC_ROC\n",
       "2        Random Forest  0.951242   0.951322  0.946549  0.984079\n",
       "0  Logistic Regression  0.931677   0.931595  0.925120  0.973762\n",
       "1        Decision Tree  0.915528   0.911409  0.911798  0.911798"
      ]
     },
     "execution_count": 7,
     "metadata": {},
     "output_type": "execute_result"
    }
   ],
   "source": [
    " models_initial = pd.DataFrame({\n",
    "    'Model'       : ['Logistic Regression', 'Decision Tree',  'Random Forest'],\n",
    "    'Accuracy'    : [LR_accuracy, dtree_accuracy,forest_accuracy],\n",
    "    'Precision'   : [LR_precision, dtree_precision, forest_precision],\n",
    "    'Recall'      : [LR_recall, dtree_recall, forest_recall],\n",
    "    'AUC_ROC'     : [LR_roc, dtree_roc, forest_roc],\n",
    "    }, columns = ['Model','Accuracy', 'Precision', 'Recall', 'AUC_ROC'])\n",
    "\n",
    "models_initial.sort_values(by='Precision', ascending=False)"
   ]
  },
  {
   "cell_type": "code",
   "execution_count": null,
   "id": "e80d4d48",
   "metadata": {},
   "outputs": [],
   "source": [
    " "
   ]
  },
  {
   "cell_type": "code",
   "execution_count": null,
   "id": "d27303a8",
   "metadata": {},
   "outputs": [],
   "source": [
    " "
   ]
  },
  {
   "cell_type": "code",
   "execution_count": null,
   "id": "296f51b6",
   "metadata": {},
   "outputs": [],
   "source": [
    " "
   ]
  },
  {
   "cell_type": "code",
   "execution_count": null,
   "id": "a38022cc",
   "metadata": {},
   "outputs": [],
   "source": []
  },
  {
   "cell_type": "code",
   "execution_count": null,
   "id": "dc851b50",
   "metadata": {},
   "outputs": [],
   "source": []
  }
 ],
 "metadata": {
  "kernelspec": {
   "display_name": "Python 3 (ipykernel)",
   "language": "python",
   "name": "python3"
  },
  "language_info": {
   "codemirror_mode": {
    "name": "ipython",
    "version": 3
   },
   "file_extension": ".py",
   "mimetype": "text/x-python",
   "name": "python",
   "nbconvert_exporter": "python",
   "pygments_lexer": "ipython3",
   "version": "3.9.7"
  }
 },
 "nbformat": 4,
 "nbformat_minor": 5
}
